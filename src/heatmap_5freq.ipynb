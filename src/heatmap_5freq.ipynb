{
 "cells": [
  {
   "cell_type": "code",
   "execution_count": 14,
   "metadata": {},
   "outputs": [
    {
     "ename": "NameError",
     "evalue": "name 'raw_eeg' is not defined",
     "output_type": "error",
     "traceback": [
      "\u001b[1;31m---------------------------------------------------------------------------\u001b[0m",
      "\u001b[1;31mNameError\u001b[0m                                 Traceback (most recent call last)",
      "Cell \u001b[1;32mIn[14], line 6\u001b[0m\n\u001b[0;32m      3\u001b[0m \u001b[38;5;28;01mimport\u001b[39;00m \u001b[38;5;21;01mnumpy\u001b[39;00m \u001b[38;5;28;01mas\u001b[39;00m \u001b[38;5;21;01mnp\u001b[39;00m\n\u001b[0;32m      5\u001b[0m \u001b[38;5;66;03m# Rename the variable for clarity\u001b[39;00m\n\u001b[1;32m----> 6\u001b[0m cleaned_eeg \u001b[38;5;241m=\u001b[39m \u001b[43mraw_eeg\u001b[49m\n\u001b[0;32m      8\u001b[0m \u001b[38;5;66;03m# Load the montage from the cleaned EEG data\u001b[39;00m\n\u001b[0;32m      9\u001b[0m montage \u001b[38;5;241m=\u001b[39m cleaned_eeg\u001b[38;5;241m.\u001b[39mget_montage()\n",
      "\u001b[1;31mNameError\u001b[0m: name 'raw_eeg' is not defined"
     ]
    }
   ],
   "source": [
    "import matplotlib.pyplot as plt\n",
    "from mne.viz import plot_topomap\n",
    "import numpy as np\n",
    "\n",
    "# Rename the variable for clarity\n",
    "cleaned_eeg = raw_eeg\n",
    "\n",
    "# Load the montage from the cleaned EEG data\n",
    "montage = cleaned_eeg.get_montage()\n",
    "\n",
    "# Extract 2D positions of EEG channels\n",
    "channel_positions = np.array([\n",
    "    montage.get_positions()[\"ch_pos\"][ch][:2]\n",
    "    for ch in cleaned_eeg.ch_names\n",
    "])\n",
    "\n",
    "# Frequency bands\n",
    "freq_bands = [\"Delta\", \"Theta\", \"Alpha\", \"Beta\", \"Gamma\"]\n",
    "\n",
    "# Create scalp heatmaps\n",
    "fig, axes = plt.subplots(1, len(freq_bands), figsize=(15, 5))\n",
    "\n",
    "for idx, band in enumerate(freq_bands):\n",
    "    power = relative_power[band]  # Relative power for the current band\n",
    "    im, _ = plot_topomap(\n",
    "        power, channel_positions, axes=axes[idx], show=False, cmap=\"viridis\"\n",
    "    )\n",
    "    axes[idx].set_title(f\"{band} Band\", fontsize=12)\n",
    "\n",
    "# Add colorbar\n",
    "cbar_ax = fig.add_axes([0.92, 0.3, 0.02, 0.4])  # Position for the colorbar\n",
    "fig.colorbar(im, cax=cbar_ax, orientation=\"vertical\")\n",
    "plt.suptitle(\"Scalp Heatmaps of PSD Across Frequency Bands\", fontsize=16)\n",
    "plt.tight_layout(rect=[0, 0, 0.9, 1])  # Adjust layout to fit colorbar\n",
    "plt.show()\n"
   ]
  }
 ],
 "metadata": {
  "kernelspec": {
   "display_name": "Python 3",
   "language": "python",
   "name": "python3"
  },
  "language_info": {
   "codemirror_mode": {
    "name": "ipython",
    "version": 3
   },
   "file_extension": ".py",
   "mimetype": "text/x-python",
   "name": "python",
   "nbconvert_exporter": "python",
   "pygments_lexer": "ipython3",
   "version": "3.13.0"
  }
 },
 "nbformat": 4,
 "nbformat_minor": 2
}
